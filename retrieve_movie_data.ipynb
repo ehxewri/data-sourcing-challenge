{
 "cells": [
  {
   "cell_type": "markdown",
   "metadata": {},
   "source": [
    "### Import Required Libraries and Set Up Environment Variables"
   ]
  },
  {
   "cell_type": "code",
   "execution_count": 1,
   "metadata": {},
   "outputs": [],
   "source": [
    "# Dependencies\n",
    "import requests\n",
    "import time\n",
    "from dotenv import load_dotenv\n",
    "import os\n",
    "import pandas as pd\n",
    "import json\n",
    "import re\n",
    "from my_toolkit import key_check"
   ]
  },
  {
   "cell_type": "code",
   "execution_count": 11,
   "metadata": {},
   "outputs": [
    {
     "name": "stdout",
     "output_type": "stream",
     "text": [
      "All keys laoded correctly\n"
     ]
    }
   ],
   "source": [
    "# Set environment variables from the .env in the local environment    \n",
    "my_env= 'C:\\src\\\\ai\\data-sourcing-challenge\\data-sourcing_challenge.env'\n",
    "my_wrong_env = 'C:\\src\\\\ai\\.envt'\n",
    "'''\n",
    "def check_keys(key_path=None):\n",
    "    try:\n",
    "        load_dotenv(key_path,override=True)   \n",
    "        nyt_api_key = os.getenv(\"NYT_API_KEY\")\n",
    "        tmdb_api_key = os.getenv(\"TMDB_API_KEY\")\n",
    "        assert nyt_api_key is not None, 'NYT_API_KEY not found in .env file'\n",
    "        assert tmdb_api_key is not None, 'TMDB_API_KEY not found in .env file'\n",
    "        responce=requests.get(f'https://api.nytimes.com/svc/mostpopular/v2/viewed/1.json?api-key={nyt_api_key}')\n",
    "        assert responce.status_code == 200, f'The key provided failed to authenticate nyt_api_key {nyt_api_key} code {responce.status_code}'\n",
    "        responce=requests.get(f'https://api.themoviedb.org/3/movie/11?api_key={tmdb_api_key}')\n",
    "        assert responce.status_code == 200, f'The key provided failed to authenticate tmdb_api_key {tmdb_api_key} code {responce.status_code}'\n",
    "    except Exception as e:\n",
    "        # Handle potential errors in loading .env or missing API keys\n",
    "        print(f'An error occurred: {e}')\n",
    "    else:\n",
    "        print('All keys laoded correctly')\n",
    "'''\n",
    "if key_check(my_env):\n",
    "    nyt_api_key = os.getenv(\"NYT_API_KEY\")\n",
    "    tmdb_api_key = os.getenv(\"TMDB_API_KEY\")\n",
    "else:\n",
    "    print ('fix Keys and rerun')"
   ]
  },
  {
   "cell_type": "markdown",
   "metadata": {},
   "source": []
  },
  {
   "cell_type": "markdown",
   "metadata": {},
   "source": [
    "### Access the New York Times API"
   ]
  },
  {
   "cell_type": "code",
   "execution_count": null,
   "metadata": {},
   "outputs": [],
   "source": [
    "# Sample from web page\n",
    "# https://api.nytimes.com/svc/search/v2/articlesearch.json?q=new+york+times&page=2&sort=oldest&api-key=your-api-key \n",
    "\n",
    "#  Set the base URL\n",
    "url = \"https://api.nytimes.com/svc/search/v2/articlesearch.json?\"\n",
    "\n",
    "# Filter for movie reviews with \"love\" in the headline\n",
    "# section_name should be \"Movies\"\n",
    "# type_of_material should be \"Review\"\n",
    "filter_query = 'section_name:\"Movies\" AND type_of_material:\"Review\" AND headline:\"love\"'\n",
    "\n",
    "# Use a sort filter, sort by newest\n",
    "sort = \"newest\"\n",
    "\n",
    "# Select the following fields to return:\n",
    "# headline, web_url, snippet, source, keywords, pub_date, byline, word_count\n",
    "field_list = \"headline,web_url,snippet,source,keywords,pub_date,byline,word_count\"\n",
    "\n",
    "# Search for reviews published between a begin and end date\n",
    "begin_date = \"20130101\"\n",
    "end_date = \"20230531\"\n",
    "\n",
    "# Build URL\n",
    "query_url=(f'{url}fq={filter_query}&begin_date={begin_date}&end_date={end_date}&fl={field_list}&sort={sort}')\n",
    "print (query_url)"
   ]
  },
  {
   "cell_type": "code",
   "execution_count": null,
   "metadata": {},
   "outputs": [],
   "source": [
    "# Create an empty list to store the reviews\n",
    "\n",
    "love_movie_review = []\n",
    "nyt_apai_key = \"null\"\n",
    "for page in range(0, 1):\n",
    "    # Create query with a page number\n",
    "    page_url = f'{query_url}&page={page}&api-key={nyt_apai_key}'\n",
    "\n",
    "    try:\n",
    "        # Make a \"GET\" request and retrieve the JSON\n",
    "        articles = requests.get(page_url).json()\n",
    "        print(f'Page {page}:', articles)\n",
    "\n",
    "        # Implement a pause to stay within API query limits\n",
    "        time.sleep(12)\n",
    "\n",
    "        # Check if there are articles to process\n",
    "        if not articles[\"response\"][\"docs\"]:\n",
    "            print(f'Page {page} had no results')\n",
    "            break\n",
    "        else:\n",
    "            # Process each article found\n",
    "            for article in articles[\"response\"][\"docs\"]:\n",
    "                love_movie_review.append(article)\n",
    "\n",
    "    except Exception as e:\n",
    "        # Handle exceptions such as connection errors or JSON decoding errors\n",
    "        print(f'An error occurred on page {page}: {e}')\n",
    "        break"
   ]
  },
  {
   "cell_type": "code",
   "execution_count": null,
   "metadata": {},
   "outputs": [],
   "source": [
    "\n",
    "for page in range(0, 10):\n",
    "    # Construct the query URL for the current page\n",
    "    page_url = f'{query_url}&page={page}&api-key={nyt_api_key}'\n",
    "\n",
    "    try:\n",
    "        # Attempt to make a \"GET\" request and parse the JSON response\n",
    "        response = requests.get(page_url).json()\n",
    "        print(f'Page {page}:', response)\n",
    "\n",
    "        # Check if the \"docs\" list is empty; if so, print a message and exit the loop\n",
    "        if not response[\"response\"][\"docs\"]:\n",
    "            print(f'No results on page {page}, stopping.')\n",
    "            break\n",
    "\n",
    "        # Otherwise, process each article in \"docs\"\n",
    "        for article in response[\"response\"][\"docs\"]:\n",
    "            love_movie_review.append(article)\n",
    "        # Add a twelve second pause between requests to adhere to API query limits\n",
    "        time.sleep(12)\n",
    "\n",
    "    except Exception as e:\n",
    "        # Handle potential errors in the request or data processing\n",
    "        print(f'An error occurred: {e}')\n",
    "        break"
   ]
  },
  {
   "cell_type": "code",
   "execution_count": null,
   "metadata": {},
   "outputs": [],
   "source": [
    "# Preview the first 5 results in JSON format\n",
    "# Use json.dumps with argument indent=4 to format data\n",
    "print (json.dumps(love_movie_review[:5], indent=4))"
   ]
  },
  {
   "cell_type": "code",
   "execution_count": null,
   "metadata": {},
   "outputs": [],
   "source": [
    "# Convert reviews_list to a Pandas DataFrame using json_normalize()\n",
    "love_movie_review_df=pd.json_normalize(love_movie_review)\n",
    "love_movie_review_df.head(5)"
   ]
  },
  {
   "cell_type": "code",
   "execution_count": null,
   "metadata": {},
   "outputs": [],
   "source": [
    "# Extract the title from the \"headline.main\" column and\n",
    "# Regular expression to match text enclosed by ‘ and ’\n",
    "pattern = r\"(?:\\u0020|^)\\u2018(.+?)\\u2019(?:\\u003A|\\u0020|$)\"\n",
    "# save it to a new column \"title\"\n",
    "# Title is between unicode characters \\u2018 and \\u2019. \n",
    "# # Use re.search to find a match to the pattern\n",
    "for idx, row in love_movie_review_df.iterrows():\n",
    "    title = re.search(pattern, row['headline.main'])\n",
    "    if title:\n",
    "        love_movie_review_df.loc[idx,'title']=title.group(1)\n",
    "        #print (f\"{idx}  {love_movie_review_df.loc[idx,'headline.main']}\\t\\t Title: {love_movie_review_df.loc[idx,'title']}\")\n",
    "    else:\n",
    "        print (f'{idx}  Title not found')\n",
    "        print (f\"{idx}  {love_movie_review_df.loc[idx,'headline.main']}\\t\\t Title: {love_movie_review_df.loc[idx,'title']}\")\n",
    "        love_movie_review_df.loc[idx,'title'] = \"not found\"\n",
    "\n",
    "# -----End string should include \" Review\" to avoid cutting title early----\n",
    "# \"\" Revie\"w doesnt work \"Review: ‘What’s Love Got to Do With It?’ Proba...\" not all titles come first. opted for u0020 before and after. \t\n"
   ]
  },
  {
   "cell_type": "code",
   "execution_count": null,
   "metadata": {},
   "outputs": [],
   "source": [
    "# Extract 'name' and 'value' from items in \"keywords\" column\n",
    "def extract_keywords(keyword_list):\n",
    "    extracted_keywords = \"\"\n",
    "    for item in keyword_list:\n",
    "        # Extract 'name' and 'value'\n",
    "        keyword = f\"{item['name']}: {item['value']};\" \n",
    "        # Append the keyword item to the extracted_keywords list\n",
    "        extracted_keywords += keyword\n",
    "    return extracted_keywords\n",
    "\n",
    "# Fix the \"keywords\" column by converting cells from a list to a string\n",
    "\n",
    "for idx, row in love_movie_review_df.iterrows():\n",
    "    love_movie_review_df.loc[idx,'keywords']=extract_keywords(row['keywords'])\n",
    "    print(f\"{idx}   {love_movie_review_df.loc[idx,'keywords']}\")\n",
    "    # test =extract_keywords(row['keywords'])\n",
    "    # print (love_movie_review_df.head(1).loc[idx,'keywords'])\n",
    "\n"
   ]
  },
  {
   "cell_type": "code",
   "execution_count": null,
   "metadata": {
    "scrolled": true
   },
   "outputs": [],
   "source": [
    "# Create a list from the \"title\" column using to_list()\n",
    "# These titles will be used in the query for The Movie Database\n",
    "titles_list = love_movie_review_df['title'].to_list()\n",
    "titles_list\n"
   ]
  },
  {
   "cell_type": "markdown",
   "metadata": {},
   "source": [
    "### Access The Movie Database API"
   ]
  },
  {
   "cell_type": "code",
   "execution_count": null,
   "metadata": {},
   "outputs": [],
   "source": [
    "# Prepare The Movie Database query\n",
    "url = \"https://api.themoviedb.org/3/search/movie?query=\"\n",
    "tmdb_key_string = \"&api_key=\" + tmdb_api_key\n",
    "tmdb_key_string1 = \"?api_key=\" + tmdb_api_key"
   ]
  },
  {
   "cell_type": "code",
   "execution_count": null,
   "metadata": {},
   "outputs": [],
   "source": [
    "# Create an empty list to store the results\n",
    "empty_list=[]\n",
    "\n",
    "# Create a request counter to sleep the requests after a multiple\n",
    "# of 50 requests\n",
    "req_counter = 0\n",
    "\n",
    "# Loop through the titles\n",
    "for title in titles_list:\n",
    "    # Check if we need to sleep before making a request\n",
    "    if req_counter > 18:\n",
    "        time.sleep(15)\n",
    "        req_counter=0\n",
    "    else:\n",
    "    # Add 1 to the request counter\n",
    "        req_counter += 1\n",
    "\n",
    "    # Perform a \"GET\" request for The Movie Database\n",
    "\n",
    "\n",
    "    # Include a try clause to search for the full movie details.\n",
    "    # Use the except clause to print out a statement if a movie\n",
    "    # is not found.\n",
    "    try:\n",
    "        # Get movie id    \n",
    "        movie_id=requests.get(f'https://api.themoviedb.org/3/search/movie?query={title}{tmdb_key_string}').json()['results'][0]['id']\n",
    "        if response.status_code == 200:\n",
    "            print(f\"Movie ID Found: {movie_id}\")            \n",
    "        # Make a request for a the full movie details\n",
    "            movie_detail_df=requests.get(f\"https://api.themoviedb.org/3/movie/{movie_id}{tmdb_key_string1}\").json()\n",
    "\n",
    "        # Execute \"GET\" request with url\n",
    "\n",
    "            print (movie_detail_df)\n",
    "        \n",
    "        # Extract the genre names into a list\n",
    "\n",
    "        # Extract the spoken_languages' English name into a list\n",
    "\n",
    "        # Extract the production_countries' name into a list\n",
    "\n",
    "        # Add the relevant data to a dictionary and\n",
    "        # append it to the tmdb_movies_list list\n",
    "\n",
    "        \n",
    "        # Print out the title that was found\n",
    "            print (f'{req_counter}  {title}')\n",
    "    \n",
    "    \n",
    "        else:\n",
    "            print (\"next\")\n",
    "    except requests.exceptions.RequestException as e:\n",
    "    # This catches all exceptions that are requests-related\n",
    "    # Including connection errors, timeouts, etc.\n",
    "        print(\"A network error occurred. Please try again later.\")\n",
    "        print(e)\n"
   ]
  },
  {
   "cell_type": "code",
   "execution_count": null,
   "metadata": {},
   "outputs": [],
   "source": [
    "# Preview the first 5 results in JSON format\n",
    "# Use json.dumps with argument indent=4 to format data\n"
   ]
  },
  {
   "cell_type": "code",
   "execution_count": null,
   "metadata": {},
   "outputs": [],
   "source": [
    "# Convert the results to a DataFrame\n"
   ]
  },
  {
   "cell_type": "markdown",
   "metadata": {},
   "source": [
    "### Merge and Clean the Data for Export"
   ]
  },
  {
   "cell_type": "code",
   "execution_count": null,
   "metadata": {
    "scrolled": true
   },
   "outputs": [],
   "source": [
    "# Merge the New York Times reviews and TMDB DataFrames on title\n"
   ]
  },
  {
   "cell_type": "code",
   "execution_count": null,
   "metadata": {},
   "outputs": [],
   "source": [
    "# Remove list brackets and quotation marks on the columns containing lists\n",
    "# Create a list of the columns that need fixing\n",
    "\n",
    "\n",
    "# Create a list of characters to remove\n",
    "\n",
    "\n",
    "# Loop through the list of columns to fix\n",
    "\n",
    "    # Convert the column to type 'str'\n",
    "\n",
    "\n",
    "    # Loop through characters to remove\n",
    "\n",
    "\n",
    "# Display the fixed DataFrame\n"
   ]
  },
  {
   "cell_type": "code",
   "execution_count": null,
   "metadata": {},
   "outputs": [],
   "source": [
    "# Drop \"byline.person\" column\n"
   ]
  },
  {
   "cell_type": "code",
   "execution_count": null,
   "metadata": {},
   "outputs": [],
   "source": [
    "# Delete duplicate rows and reset index\n"
   ]
  },
  {
   "cell_type": "code",
   "execution_count": null,
   "metadata": {},
   "outputs": [],
   "source": [
    "# Export data to CSV without the index\n"
   ]
  },
  {
   "cell_type": "code",
   "execution_count": null,
   "metadata": {},
   "outputs": [],
   "source": []
  }
 ],
 "metadata": {
  "kernelspec": {
   "display_name": "dev",
   "language": "python",
   "name": "dev"
  },
  "language_info": {
   "codemirror_mode": {
    "name": "ipython",
    "version": 3
   },
   "file_extension": ".py",
   "mimetype": "text/x-python",
   "name": "python",
   "nbconvert_exporter": "python",
   "pygments_lexer": "ipython3",
   "version": "3.10.13"
  },
  "varInspector": {
   "cols": {
    "lenName": 16,
    "lenType": 16,
    "lenVar": 40
   },
   "kernels_config": {
    "python": {
     "delete_cmd_postfix": "",
     "delete_cmd_prefix": "del ",
     "library": "var_list.py",
     "varRefreshCmd": "print(var_dic_list())"
    },
    "r": {
     "delete_cmd_postfix": ") ",
     "delete_cmd_prefix": "rm(",
     "library": "var_list.r",
     "varRefreshCmd": "cat(var_dic_list()) "
    }
   },
   "types_to_exclude": [
    "module",
    "function",
    "builtin_function_or_method",
    "instance",
    "_Feature"
   ],
   "window_display": false
  }
 },
 "nbformat": 4,
 "nbformat_minor": 2
}
